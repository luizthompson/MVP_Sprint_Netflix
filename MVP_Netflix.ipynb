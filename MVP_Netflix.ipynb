{
  "nbformat": 4,
  "nbformat_minor": 0,
  "metadata": {
    "colab": {
      "provenance": [],
      "toc_visible": true,
      "authorship_tag": "ABX9TyPHDcLR5I1CPSPcAa+MhCVQ",
      "include_colab_link": true
    },
    "kernelspec": {
      "name": "python3",
      "display_name": "Python 3"
    },
    "language_info": {
      "name": "python"
    }
  },
  "cells": [
    {
      "cell_type": "markdown",
      "metadata": {
        "id": "view-in-github",
        "colab_type": "text"
      },
      "source": [
        "<a href=\"https://colab.research.google.com/github/luizthompson/MVP_Sprint_Netflix/blob/main/MVP_Netflix.ipynb\" target=\"_parent\"><img src=\"https://colab.research.google.com/assets/colab-badge.svg\" alt=\"Open In Colab\"/></a>"
      ]
    },
    {
      "cell_type": "markdown",
      "source": [
        "# MVP - Sprint: Machine Learning & Analytics\n",
        "Luiz Guilherme Thompson Vaz"
      ],
      "metadata": {
        "id": "ghtqQcQDeW2u"
      }
    },
    {
      "cell_type": "markdown",
      "source": [
        "# Definição do Problema\n",
        "\n",
        "Descrição do Problema:\n",
        "O problema que estamos tentando resolver é a previsão do preço de fechamento do dia seguinte das ações da Netflix. Isso é um problema de regressão no campo de aprendizado de máquina."
      ],
      "metadata": {
        "id": "vvOhi6-_ebez"
      }
    },
    {
      "cell_type": "markdown",
      "source": [
        "# Premissas ou Hipóteses\n",
        "\n",
        "A hipótese fundamental é que os preços das ações são influenciados por uma combinação de fatores técnicos (como preços de abertura, máximo, mínimo e fechamento de cada dia de negociação, volume de negociação, indicadores de impulso, etc.) e que esses fatores podem ser usados para prever movimentos futuros de preços."
      ],
      "metadata": {
        "id": "YqMzflDKeliz"
      }
    },
    {
      "cell_type": "markdown",
      "source": [
        "# Restrições ou Condições para Selecionar os Dados\n",
        "\n",
        "Os dados utilizados para este projeto são históricos e foram coletados ao longo da última década. Eles incluem uma variedade de indicadores técnicos e estatísticas vitais. No entanto, eles não incluem informações sobre eventos do mundo real (como notícias ou anúncios da empresa) que também podem influenciar os preços das ações."
      ],
      "metadata": {
        "id": "NrIVD-ofer17"
      }
    },
    {
      "cell_type": "markdown",
      "source": [
        "## Descrição do Dataset\n",
        "\n",
        "O conjunto de dados inclui a data de registro e diversas estatísticas vitais: os preços de abertura, máximo, mínimo e fechamento de cada dia de negociação, juntamente com o volume de negociação. Ele também contém indicadores de impulso, como o Índice de Força Relativa (RSI) de 7 e 14 dias, o Commodity Channel Index (CCI) para 7 e 14 dias, a média móvel simples (SMA) de 50 e 100 dias e a média móvel exponencial (EMA). Indicadores adicionais importantes são a Convergência Divergência das Médias Móveis (MACD), as Bandas de Bollinger, o True Range e o Average True Range (ATR) de 7 e 14 dias. O objetivo do conjunto de dados é prever o preço de fechamento do dia seguinte das ações da Netflix."
      ],
      "metadata": {
        "id": "4RkMghEWe28z"
      }
    },
    {
      "cell_type": "code",
      "source": [
        "# Importando as bibliotecas necessárias\n",
        "import pandas as pd\n",
        "from sklearn.model_selection import train_test_split\n",
        "from sklearn.preprocessing import StandardScaler\n",
        "from sklearn.ensemble import RandomForestClassifier\n",
        "from sklearn.metrics import accuracy_score, confusion_matrix, classification_report\n",
        "\n",
        "# Carregar o dataset\n",
        "url = 'https://raw.githubusercontent.com/luizthompson/MVP_Sprint_Netflix/main/nflx_2014_2023.csv'\n",
        "df = pd.read_csv(url)\n",
        "\n",
        "# Exibindo as primeiras linhas do dataset\n",
        "print(df.head())"
      ],
      "metadata": {
        "colab": {
          "base_uri": "https://localhost:8080/"
        },
        "id": "9KVgMmcXfi8P",
        "outputId": "66c9b1ba-636b-4112-d086-b9f2c958064b"
      },
      "execution_count": 67,
      "outputs": [
        {
          "output_type": "stream",
          "name": "stdout",
          "text": [
            "         date       open       high        low      close    volume  \\\n",
            "0  2014-01-02  52.401428  52.511429  51.542858  51.831429  12325600   \n",
            "1  2014-01-03  52.000000  52.495712  51.842857  51.871429  10817100   \n",
            "2  2014-01-06  51.889999  52.044285  50.475716  51.367142  15501500   \n",
            "3  2014-01-07  49.684284  49.698570  48.152859  48.500000  36167600   \n",
            "4  2014-01-08  48.104286  49.425713  48.074287  48.712856  20001100   \n",
            "\n",
            "       rsi_7     rsi_14       cci_7      cci_14     sma_50     ema_50  \\\n",
            "0  34.729664  49.183584  -89.573201 -131.288579  50.112828  50.235157   \n",
            "1  35.587886  49.457208  -65.820581 -103.026189  50.228771  50.299327   \n",
            "2  29.820674  46.087900 -121.472559 -139.640566  50.312571  50.341203   \n",
            "3  14.371863  32.522091 -206.762171 -238.029120  50.336228  50.268997   \n",
            "4  18.049045  34.073549 -117.836707 -180.766801  50.373257  50.207969   \n",
            "\n",
            "     sma_100    ema_100      macd  bollinger  TrueRange     atr_7    atr_14  \\\n",
            "0  46.385428  46.650698  0.751929  52.607357   1.052857  1.161182  1.247748   \n",
            "1  46.537571  46.754726  0.624259  52.656143   0.664283  1.090197  1.206072   \n",
            "2  46.680971  46.846621  0.476890  52.666928   1.568569  1.158535  1.231965   \n",
            "3  46.791957  46.879558  0.127277  52.560214   3.214283  1.452214  1.373559   \n",
            "4  46.917071  46.916075 -0.131106  52.455357   1.351426  1.437815  1.371978   \n",
            "\n",
            "   next_day_close  \n",
            "0       51.871429  \n",
            "1       51.367142  \n",
            "2       48.500000  \n",
            "3       48.712856  \n",
            "4       48.150002  \n"
          ]
        }
      ]
    },
    {
      "cell_type": "code",
      "source": [
        "# Vou verificar as informações gerais do meu dataframe (tipos de dados, número de valores não nulos, etc.)\n",
        "print(df.info())\n",
        "\n",
        "# Vou verificar as estatísticas descritivas do meu dataframe (média, desvio padrão, valores mínimos/máximos, etc.)\n",
        "print(df.describe())\n",
        "\n",
        "# Vou verificar se há valores faltantes no meu dataframe\n",
        "print(df.isnull().sum())"
      ],
      "metadata": {
        "colab": {
          "base_uri": "https://localhost:8080/"
        },
        "id": "ZhOHRniTeYVq",
        "outputId": "cc79af82-0ba4-4d1a-a0c9-d26ad09a0942"
      },
      "execution_count": 68,
      "outputs": [
        {
          "output_type": "stream",
          "name": "stdout",
          "text": [
            "<class 'pandas.core.frame.DataFrame'>\n",
            "RangeIndex: 2516 entries, 0 to 2515\n",
            "Data columns (total 20 columns):\n",
            " #   Column          Non-Null Count  Dtype  \n",
            "---  ------          --------------  -----  \n",
            " 0   date            2516 non-null   object \n",
            " 1   open            2516 non-null   float64\n",
            " 2   high            2516 non-null   float64\n",
            " 3   low             2516 non-null   float64\n",
            " 4   close           2516 non-null   float64\n",
            " 5   volume          2516 non-null   int64  \n",
            " 6   rsi_7           2516 non-null   float64\n",
            " 7   rsi_14          2516 non-null   float64\n",
            " 8   cci_7           2516 non-null   float64\n",
            " 9   cci_14          2516 non-null   float64\n",
            " 10  sma_50          2516 non-null   float64\n",
            " 11  ema_50          2516 non-null   float64\n",
            " 12  sma_100         2516 non-null   float64\n",
            " 13  ema_100         2516 non-null   float64\n",
            " 14  macd            2516 non-null   float64\n",
            " 15  bollinger       2516 non-null   float64\n",
            " 16  TrueRange       2516 non-null   float64\n",
            " 17  atr_7           2516 non-null   float64\n",
            " 18  atr_14          2516 non-null   float64\n",
            " 19  next_day_close  2516 non-null   float64\n",
            "dtypes: float64(18), int64(1), object(1)\n",
            "memory usage: 393.2+ KB\n",
            "None\n",
            "              open         high          low        close        volume  \\\n",
            "count  2516.000000  2516.000000  2516.000000  2516.000000  2.516000e+03   \n",
            "mean    274.455767   278.638946   270.124592   274.487023  1.049230e+07   \n",
            "std     166.005094   168.205188   163.612279   165.902954  9.173072e+06   \n",
            "min      44.605713    45.842857    42.785713    44.887142  1.144000e+06   \n",
            "25%     109.982502   111.887501   107.117498   110.064998  5.017050e+06   \n",
            "50%     288.000000   292.690002   282.660004   288.229995  7.795950e+06   \n",
            "75%     384.542511   391.317505   377.795006   384.560005  1.299060e+07   \n",
            "max     692.349976   700.989990   686.090027   691.690002  1.333875e+08   \n",
            "\n",
            "             rsi_7       rsi_14        cci_7       cci_14       sma_50  \\\n",
            "count  2516.000000  2516.000000  2516.000000  2516.000000  2516.000000   \n",
            "mean     53.399584    53.424079    11.920763    15.705041   270.416745   \n",
            "std      17.763862    13.088270   100.831995   111.396602   164.404981   \n",
            "min       4.374756     9.152344  -233.333333  -424.012878    49.679943   \n",
            "25%      40.015924    43.731175   -74.565801   -71.870319   107.627900   \n",
            "50%      53.953919    53.668026    25.632766    27.165946   286.034599   \n",
            "75%      67.151119    63.378696    94.212764   100.321908   376.592201   \n",
            "max      96.305710    91.547868   233.333333   356.795719   648.592997   \n",
            "\n",
            "            ema_50      sma_100      ema_100         macd    bollinger  \\\n",
            "count  2516.000000  2516.000000  2516.000000  2516.000000  2516.000000   \n",
            "mean    270.522273   266.760420   266.813442     1.151103   272.865067   \n",
            "std     163.454752   163.189487   161.050027     9.655979   165.259896   \n",
            "min      49.409771    46.385428    46.650698   -59.233806    47.643571   \n",
            "25%     105.923105   105.662982   102.490532    -1.929731   106.655000   \n",
            "50%     287.382611   287.634151   291.379066     1.535425   284.444750   \n",
            "75%     381.284113   365.740875   369.343945     5.693881   380.708376   \n",
            "max     642.765550   616.771798   610.750059    24.347344   672.126996   \n",
            "\n",
            "         TrueRange        atr_7       atr_14  next_day_close  \n",
            "count  2516.000000  2516.000000  2516.000000     2516.000000  \n",
            "mean      9.249735     9.231142     9.206930      274.652630  \n",
            "std       8.414224     6.141865     5.898383      165.888569  \n",
            "min       0.599998     1.090197     1.206072       44.887142  \n",
            "25%       3.102141     3.349633     3.351988      110.122497  \n",
            "50%       7.830006     9.445428     9.852787      288.284988  \n",
            "75%      12.715011    13.227332    13.211536      384.857491  \n",
            "max     136.099990    35.221811    27.809882      691.690002  \n",
            "date              0\n",
            "open              0\n",
            "high              0\n",
            "low               0\n",
            "close             0\n",
            "volume            0\n",
            "rsi_7             0\n",
            "rsi_14            0\n",
            "cci_7             0\n",
            "cci_14            0\n",
            "sma_50            0\n",
            "ema_50            0\n",
            "sma_100           0\n",
            "ema_100           0\n",
            "macd              0\n",
            "bollinger         0\n",
            "TrueRange         0\n",
            "atr_7             0\n",
            "atr_14            0\n",
            "next_day_close    0\n",
            "dtype: int64\n"
          ]
        }
      ]
    },
    {
      "cell_type": "markdown",
      "source": [
        "# Preparação de Dados\n",
        "\n",
        "Separação do Dataset\n",
        "Vou dividir o conjunto de dados em um conjunto de treinamento e um conjunto de teste. O conjunto de treinamento é usado para treinar o modelo, enquanto o conjunto de teste é usado para avaliar o desempenho do modelo."
      ],
      "metadata": {
        "id": "nITeMH9WhY9Z"
      }
    },
    {
      "cell_type": "code",
      "source": [
        "from sklearn.model_selection import train_test_split\n",
        "\n",
        "# Definir a variável alvo\n",
        "target = df['next_day_close']\n",
        "\n",
        "# Definir as variáveis independentes\n",
        "features = df.drop('next_day_close', axis=1)\n",
        "\n",
        "# Dividir os dados\n",
        "X_train, X_test, y_train, y_test = train_test_split(features, target, test_size=0.2, random_state=42)\n",
        "\n",
        "# Verificar o tamanho dos conjuntos de treino e teste\n",
        "print(\"Tamanho do conjunto de treino:\", X_train.shape)\n",
        "print(\"Tamanho do conjunto de teste:\", X_test.shape)"
      ],
      "metadata": {
        "colab": {
          "base_uri": "https://localhost:8080/"
        },
        "id": "biTWHgdOhj0M",
        "outputId": "965f5f7f-7247-40e0-8522-5b43b72ceaf9"
      },
      "execution_count": 69,
      "outputs": [
        {
          "output_type": "stream",
          "name": "stdout",
          "text": [
            "Tamanho do conjunto de treino: (2012, 19)\n",
            "Tamanho do conjunto de teste: (504, 19)\n"
          ]
        }
      ]
    },
    {
      "cell_type": "markdown",
      "source": [
        "# Validação Cruzada\n",
        "Faz sentido usar a validação cruzada. A validação cruzada é uma técnica poderosa que fornece uma estimativa mais robusta do desempenho do modelo. Ela reduz a variância associada à divisão única de treino/teste, garantindo que o modelo seja testado em diferentes subconjuntos do conjunto de dados. No entanto, ela pode ser mais demorada, pois requer o treinamento de múltiplos modelos."
      ],
      "metadata": {
        "id": "-X0JsKIPh7gQ"
      }
    },
    {
      "cell_type": "code",
      "source": [
        "from sklearn.preprocessing import StandardScaler\n",
        "\n",
        "# Remover a coluna 'date'\n",
        "X_train = X_train.drop('date', axis=1)\n",
        "X_test = X_test.drop('date', axis=1)\n",
        "\n",
        "# Criar um objeto StandardScaler\n",
        "scaler = StandardScaler()\n",
        "\n",
        "# Ajustar e transformar os dados de treinamento\n",
        "X_train_scaled = scaler.fit_transform(X_train)\n",
        "\n",
        "# Transformar os dados de teste\n",
        "X_test_scaled = scaler.transform(X_test)\n",
        "\n",
        "# Verificar os primeiros registros do conjunto de treino padronizado\n",
        "print(X_train_scaled[:5])\n",
        "\n",
        "# Verificar os primeiros registros do conjunto de teste padronizado\n",
        "print(X_test_scaled[:5])"
      ],
      "metadata": {
        "colab": {
          "base_uri": "https://localhost:8080/"
        },
        "id": "dfbCQUP2mDHd",
        "outputId": "44e776aa-c6da-4dfd-8a46-325f7d4cdbce"
      },
      "execution_count": 70,
      "outputs": [
        {
          "output_type": "stream",
          "name": "stdout",
          "text": [
            "[[ 0.46892995  0.47334124  0.49422781  0.49199214 -0.52823856  0.37693146\n",
            "   0.74759394 -1.04108068  0.20932832  0.26921029  0.28615145  0.11124338\n",
            "   0.18306414  1.4903423   0.38791361 -0.23200239  0.21673458  0.38476884]\n",
            " [-1.2364618  -1.23998191 -1.22931193 -1.23518481  0.03440603  1.41368975\n",
            "   1.70213968  1.59341764  0.79482387 -1.2968058  -1.28361321 -1.28815625\n",
            "  -1.2915147   0.21915177 -1.25066176 -0.93777817 -1.30924984 -1.31366608]\n",
            " [ 0.55524377  0.54140748  0.49951635  0.47070995 -0.37531315 -0.62202451\n",
            "  -0.48480687 -0.30123824 -0.42431643  0.55049135  0.53739912  0.57182654\n",
            "   0.50937258  0.06489884  0.51279848  0.9906032   0.5556677   0.56833072]\n",
            " [ 0.52978595  0.54655143  0.55326161  0.57063368 -0.46403199  0.76787605\n",
            "   0.98389393  0.3360819   0.38741029  0.32473465  0.35045068  0.1610754\n",
            "   0.23211429  1.36091813  0.48346253  0.0748104   0.33774994  0.42058551]\n",
            " [ 0.00250766 -0.00766928  0.01414821 -0.01211385 -0.46151791 -0.37683087\n",
            "  -0.89014487  0.57044723  0.29995797  0.1398923   0.14540644  0.35499421\n",
            "   0.28558506 -0.867498    0.02879805 -0.50511833 -0.13959963 -0.03305339]]\n",
            "[[-1.07896151 -1.08470921 -1.07514773 -1.08186894 -0.30991456 -1.1084397\n",
            "  -0.72040853 -0.70342199 -1.08643038 -1.05225625 -1.05866618 -1.03986054\n",
            "  -1.04096718 -0.11920289 -1.05788054 -0.84563449 -1.09154456 -1.10441931]\n",
            " [-0.56865497 -0.57696263 -0.56106204 -0.56824341 -0.48755815  1.26934479\n",
            "   0.7367186   1.07624977  1.06044984 -0.60199031 -0.60840845 -0.62801366\n",
            "  -0.63728386  0.01790667 -0.61120487 -0.69571352 -0.85576848 -0.84624504]\n",
            " [-0.55380464 -0.56739271 -0.54716454 -0.55793575 -0.69985703 -0.41090124\n",
            "  -0.10424539 -0.68470025 -0.93774926 -0.55464661 -0.57222405 -0.59800887\n",
            "  -0.60525321  0.12087193 -0.54664873 -0.77009286 -0.81956995 -0.84737916]\n",
            " [-0.49100887 -0.50375244 -0.48481014 -0.4892987  -0.42404512 -1.16574428\n",
            "  -0.57588103 -1.41918566 -1.66578948 -0.48350081 -0.48632158 -0.52947424\n",
            "  -0.52813366  0.04721335 -0.45289677 -0.56206384 -0.82755852 -0.8364034 ]\n",
            " [ 2.43147949  2.3905643   2.42549282  2.39988293 -0.82688308  1.08909014\n",
            "   1.25722585  0.79371902  1.33601964  2.01297142  2.05472474  1.79710665\n",
            "   1.92406447  1.86906502  2.20715623  0.52108247  1.25589635  1.25718019]]\n"
          ]
        }
      ]
    },
    {
      "cell_type": "markdown",
      "source": [
        "# Modelagem e treinamento"
      ],
      "metadata": {
        "id": "dyg9T6rVxBxc"
      }
    },
    {
      "cell_type": "markdown",
      "source": [
        "**Selecione os algoritmos mais indicados para o problema e dataset escolhidos, justificando as suas escolhas:**\n",
        "\n",
        "Dado que estamos lidando com um problema de regressão, podemos começar com modelos de regressão simples, como a Regressão Linear. Também podemos experimentar modelos mais complexos, como Árvores de Decisão, Florestas Aleatórias e Máquinas de Vetores de Suporte (SVM). Esses modelos são comumente usados para problemas de regressão e podem ser capazes de capturar padrões complexos nos dados."
      ],
      "metadata": {
        "id": "p0GTT2G_nP18"
      }
    },
    {
      "cell_type": "code",
      "source": [
        "from sklearn.linear_model import LinearRegression\n",
        "from sklearn.tree import DecisionTreeRegressor\n",
        "from sklearn.ensemble import RandomForestRegressor\n",
        "from sklearn.svm import SVR\n",
        "\n",
        "# Criar os modelos\n",
        "linear_model = LinearRegression()\n",
        "tree_model = DecisionTreeRegressor(random_state=42)\n",
        "forest_model = RandomForestRegressor(random_state=42)\n",
        "svm_model = SVR()"
      ],
      "metadata": {
        "id": "0Q28zQ1OnxxO"
      },
      "execution_count": 71,
      "outputs": []
    },
    {
      "cell_type": "markdown",
      "source": [
        "**Há algum ajuste inicial para os hiperparâmetros?:**\n",
        "\n",
        "Inicialmente, podemos usar os hiperparâmetros padrão fornecidos pelas implementações dos modelos no scikit-learn. No entanto, é provável que precisemos ajustar esses hiperparâmetros para obter o melhor desempenho do modelo."
      ],
      "metadata": {
        "id": "5OjrScj1o9Na"
      }
    },
    {
      "cell_type": "markdown",
      "source": [
        "**O modelo foi devidamente treinado?**\n",
        "\n",
        "Foi observado problema de underfitting?: Para verificar se o modelo foi devidamente treinado e se há algum problema de underfitting, precisamos treinar o modelo e avaliar seu desempenho. Underfitting ocorre quando o modelo é muito simples para capturar a complexidade dos dados. Se observarmos que o modelo tem um desempenho ruim tanto nos dados de treinamento quanto nos dados de teste, isso pode ser um sinal de underfitting.\n",
        "\n"
      ],
      "metadata": {
        "id": "q32h6YKEoB_Q"
      }
    },
    {
      "cell_type": "code",
      "source": [
        "# Treinar os modelos\n",
        "linear_model.fit(X_train_scaled, y_train)\n",
        "tree_model.fit(X_train_scaled, y_train)\n",
        "forest_model.fit(X_train_scaled, y_train)\n",
        "svm_model.fit(X_train_scaled, y_train)\n",
        "\n"
      ],
      "metadata": {
        "colab": {
          "base_uri": "https://localhost:8080/",
          "height": 75
        },
        "id": "KO5pFknfn7ww",
        "outputId": "d2ac73e2-e126-4958-c271-c1e4a106bb4b"
      },
      "execution_count": 72,
      "outputs": [
        {
          "output_type": "execute_result",
          "data": {
            "text/plain": [
              "SVR()"
            ],
            "text/html": [
              "<style>#sk-container-id-10 {color: black;background-color: white;}#sk-container-id-10 pre{padding: 0;}#sk-container-id-10 div.sk-toggleable {background-color: white;}#sk-container-id-10 label.sk-toggleable__label {cursor: pointer;display: block;width: 100%;margin-bottom: 0;padding: 0.3em;box-sizing: border-box;text-align: center;}#sk-container-id-10 label.sk-toggleable__label-arrow:before {content: \"▸\";float: left;margin-right: 0.25em;color: #696969;}#sk-container-id-10 label.sk-toggleable__label-arrow:hover:before {color: black;}#sk-container-id-10 div.sk-estimator:hover label.sk-toggleable__label-arrow:before {color: black;}#sk-container-id-10 div.sk-toggleable__content {max-height: 0;max-width: 0;overflow: hidden;text-align: left;background-color: #f0f8ff;}#sk-container-id-10 div.sk-toggleable__content pre {margin: 0.2em;color: black;border-radius: 0.25em;background-color: #f0f8ff;}#sk-container-id-10 input.sk-toggleable__control:checked~div.sk-toggleable__content {max-height: 200px;max-width: 100%;overflow: auto;}#sk-container-id-10 input.sk-toggleable__control:checked~label.sk-toggleable__label-arrow:before {content: \"▾\";}#sk-container-id-10 div.sk-estimator input.sk-toggleable__control:checked~label.sk-toggleable__label {background-color: #d4ebff;}#sk-container-id-10 div.sk-label input.sk-toggleable__control:checked~label.sk-toggleable__label {background-color: #d4ebff;}#sk-container-id-10 input.sk-hidden--visually {border: 0;clip: rect(1px 1px 1px 1px);clip: rect(1px, 1px, 1px, 1px);height: 1px;margin: -1px;overflow: hidden;padding: 0;position: absolute;width: 1px;}#sk-container-id-10 div.sk-estimator {font-family: monospace;background-color: #f0f8ff;border: 1px dotted black;border-radius: 0.25em;box-sizing: border-box;margin-bottom: 0.5em;}#sk-container-id-10 div.sk-estimator:hover {background-color: #d4ebff;}#sk-container-id-10 div.sk-parallel-item::after {content: \"\";width: 100%;border-bottom: 1px solid gray;flex-grow: 1;}#sk-container-id-10 div.sk-label:hover label.sk-toggleable__label {background-color: #d4ebff;}#sk-container-id-10 div.sk-serial::before {content: \"\";position: absolute;border-left: 1px solid gray;box-sizing: border-box;top: 0;bottom: 0;left: 50%;z-index: 0;}#sk-container-id-10 div.sk-serial {display: flex;flex-direction: column;align-items: center;background-color: white;padding-right: 0.2em;padding-left: 0.2em;position: relative;}#sk-container-id-10 div.sk-item {position: relative;z-index: 1;}#sk-container-id-10 div.sk-parallel {display: flex;align-items: stretch;justify-content: center;background-color: white;position: relative;}#sk-container-id-10 div.sk-item::before, #sk-container-id-10 div.sk-parallel-item::before {content: \"\";position: absolute;border-left: 1px solid gray;box-sizing: border-box;top: 0;bottom: 0;left: 50%;z-index: -1;}#sk-container-id-10 div.sk-parallel-item {display: flex;flex-direction: column;z-index: 1;position: relative;background-color: white;}#sk-container-id-10 div.sk-parallel-item:first-child::after {align-self: flex-end;width: 50%;}#sk-container-id-10 div.sk-parallel-item:last-child::after {align-self: flex-start;width: 50%;}#sk-container-id-10 div.sk-parallel-item:only-child::after {width: 0;}#sk-container-id-10 div.sk-dashed-wrapped {border: 1px dashed gray;margin: 0 0.4em 0.5em 0.4em;box-sizing: border-box;padding-bottom: 0.4em;background-color: white;}#sk-container-id-10 div.sk-label label {font-family: monospace;font-weight: bold;display: inline-block;line-height: 1.2em;}#sk-container-id-10 div.sk-label-container {text-align: center;}#sk-container-id-10 div.sk-container {/* jupyter's `normalize.less` sets `[hidden] { display: none; }` but bootstrap.min.css set `[hidden] { display: none !important; }` so we also need the `!important` here to be able to override the default hidden behavior on the sphinx rendered scikit-learn.org. See: https://github.com/scikit-learn/scikit-learn/issues/21755 */display: inline-block !important;position: relative;}#sk-container-id-10 div.sk-text-repr-fallback {display: none;}</style><div id=\"sk-container-id-10\" class=\"sk-top-container\"><div class=\"sk-text-repr-fallback\"><pre>SVR()</pre><b>In a Jupyter environment, please rerun this cell to show the HTML representation or trust the notebook. <br />On GitHub, the HTML representation is unable to render, please try loading this page with nbviewer.org.</b></div><div class=\"sk-container\" hidden><div class=\"sk-item\"><div class=\"sk-estimator sk-toggleable\"><input class=\"sk-toggleable__control sk-hidden--visually\" id=\"sk-estimator-id-18\" type=\"checkbox\" checked><label for=\"sk-estimator-id-18\" class=\"sk-toggleable__label sk-toggleable__label-arrow\">SVR</label><div class=\"sk-toggleable__content\"><pre>SVR()</pre></div></div></div></div></div>"
            ]
          },
          "metadata": {},
          "execution_count": 72
        }
      ]
    },
    {
      "cell_type": "code",
      "source": [
        "from sklearn.metrics import mean_squared_error\n",
        "\n",
        "# Usar o modelo para fazer previsões nos dados de teste\n",
        "y_pred = svm_model.predict(X_test_scaled)\n",
        "\n",
        "# Calcular o MSE\n",
        "mse = mean_squared_error(y_test, y_pred)\n",
        "\n",
        "print(\"Erro Quadrático Médio (MSE) do modelo SVR:\", mse)\n"
      ],
      "metadata": {
        "colab": {
          "base_uri": "https://localhost:8080/"
        },
        "id": "g8QJLOzrpM5I",
        "outputId": "ad4e2929-c77c-4be5-fb36-dbe89079fbb3"
      },
      "execution_count": 73,
      "outputs": [
        {
          "output_type": "stream",
          "name": "stdout",
          "text": [
            "Erro Quadrático Médio (MSE) do modelo SVR: 3040.142732559128\n"
          ]
        }
      ]
    },
    {
      "cell_type": "markdown",
      "source": [
        "**Otimizar os hiperparâmetros de algum dos modelos**\n",
        "\n",
        "Nesta etapa, realizei a otimização de hiperparâmetros para o modelo de Floresta Aleatória. A otimização de hiperparâmetros é um processo importante que pode ajudar a melhorar o desempenho do modelo. Usei o método RandomizedSearchCV do scikit-learn para realizar essa otimização. Esse método realiza uma busca aleatória sobre os hiperparâmetros, o que pode ser mais eficiente do que uma busca exaustiva.\n",
        "\n",
        "Especifiquei a distribuição dos hiperparâmetros que queria otimizar, que incluía o número de estimadores (n_estimators), a profundidade máxima das árvores (max_depth) e o número mínimo de amostras necessárias para dividir um nó interno (min_samples_split).\n",
        "\n"
      ],
      "metadata": {
        "id": "Q6eKs32bVbjq"
      }
    },
    {
      "cell_type": "code",
      "source": [
        "from sklearn.model_selection import RandomizedSearchCV\n",
        "from scipy.stats import randint\n",
        "\n",
        "# Definir a distribuição dos hiperparâmetros que queremos otimizar\n",
        "param_dist = {\n",
        "    'n_estimators': randint(100, 300),\n",
        "    'max_depth': [None] + list(randint(1, 20).rvs(size=10)),\n",
        "    'min_samples_split': randint(2, 10)\n",
        "}\n",
        "\n",
        "# Criar o objeto RandomizedSearchCV\n",
        "random_search = RandomizedSearchCV(forest_model, param_dist, cv=5, scoring='neg_mean_squared_error', n_iter=10, random_state=42)\n",
        "\n",
        "# Realizar a otimização de hiperparâmetros\n",
        "random_search.fit(X_train_scaled, y_train)\n",
        "\n",
        "# Imprimir os melhores hiperparâmetros encontrados\n",
        "print(\"Melhores hiperparâmetros:\", random_search.best_params_)\n",
        "\n"
      ],
      "metadata": {
        "colab": {
          "base_uri": "https://localhost:8080/"
        },
        "id": "3GFof94xqVag",
        "outputId": "d83e135e-bb93-41d5-de86-efe8e06009b1"
      },
      "execution_count": 74,
      "outputs": [
        {
          "output_type": "stream",
          "name": "stdout",
          "text": [
            "Melhores hiperparâmetros: {'max_depth': 7, 'min_samples_split': 8, 'n_estimators': 221}\n"
          ]
        }
      ]
    },
    {
      "cell_type": "markdown",
      "source": [
        "**Há algum método avançado ou mais complexo que possa ser avaliado?**\n",
        "\n",
        "Treinando um modelo de Gradient Boosting com o hiperparâmetro random_state definido como 42.\n",
        "\n"
      ],
      "metadata": {
        "id": "ZqZhVcuXVMBK"
      }
    },
    {
      "cell_type": "code",
      "source": [
        "from sklearn.ensemble import GradientBoostingRegressor\n",
        "\n",
        "# Criar o modelo\n",
        "gb_model = GradientBoostingRegressor(random_state=42)\n",
        "\n",
        "# Treinar o modelo\n",
        "gb_model.fit(X_train_scaled, y_train)\n"
      ],
      "metadata": {
        "colab": {
          "base_uri": "https://localhost:8080/",
          "height": 75
        },
        "id": "SRv2HxJarKuP",
        "outputId": "8740fb0b-50c5-4d27-83bf-62e9309a4a6c"
      },
      "execution_count": 75,
      "outputs": [
        {
          "output_type": "execute_result",
          "data": {
            "text/plain": [
              "GradientBoostingRegressor(random_state=42)"
            ],
            "text/html": [
              "<style>#sk-container-id-11 {color: black;background-color: white;}#sk-container-id-11 pre{padding: 0;}#sk-container-id-11 div.sk-toggleable {background-color: white;}#sk-container-id-11 label.sk-toggleable__label {cursor: pointer;display: block;width: 100%;margin-bottom: 0;padding: 0.3em;box-sizing: border-box;text-align: center;}#sk-container-id-11 label.sk-toggleable__label-arrow:before {content: \"▸\";float: left;margin-right: 0.25em;color: #696969;}#sk-container-id-11 label.sk-toggleable__label-arrow:hover:before {color: black;}#sk-container-id-11 div.sk-estimator:hover label.sk-toggleable__label-arrow:before {color: black;}#sk-container-id-11 div.sk-toggleable__content {max-height: 0;max-width: 0;overflow: hidden;text-align: left;background-color: #f0f8ff;}#sk-container-id-11 div.sk-toggleable__content pre {margin: 0.2em;color: black;border-radius: 0.25em;background-color: #f0f8ff;}#sk-container-id-11 input.sk-toggleable__control:checked~div.sk-toggleable__content {max-height: 200px;max-width: 100%;overflow: auto;}#sk-container-id-11 input.sk-toggleable__control:checked~label.sk-toggleable__label-arrow:before {content: \"▾\";}#sk-container-id-11 div.sk-estimator input.sk-toggleable__control:checked~label.sk-toggleable__label {background-color: #d4ebff;}#sk-container-id-11 div.sk-label input.sk-toggleable__control:checked~label.sk-toggleable__label {background-color: #d4ebff;}#sk-container-id-11 input.sk-hidden--visually {border: 0;clip: rect(1px 1px 1px 1px);clip: rect(1px, 1px, 1px, 1px);height: 1px;margin: -1px;overflow: hidden;padding: 0;position: absolute;width: 1px;}#sk-container-id-11 div.sk-estimator {font-family: monospace;background-color: #f0f8ff;border: 1px dotted black;border-radius: 0.25em;box-sizing: border-box;margin-bottom: 0.5em;}#sk-container-id-11 div.sk-estimator:hover {background-color: #d4ebff;}#sk-container-id-11 div.sk-parallel-item::after {content: \"\";width: 100%;border-bottom: 1px solid gray;flex-grow: 1;}#sk-container-id-11 div.sk-label:hover label.sk-toggleable__label {background-color: #d4ebff;}#sk-container-id-11 div.sk-serial::before {content: \"\";position: absolute;border-left: 1px solid gray;box-sizing: border-box;top: 0;bottom: 0;left: 50%;z-index: 0;}#sk-container-id-11 div.sk-serial {display: flex;flex-direction: column;align-items: center;background-color: white;padding-right: 0.2em;padding-left: 0.2em;position: relative;}#sk-container-id-11 div.sk-item {position: relative;z-index: 1;}#sk-container-id-11 div.sk-parallel {display: flex;align-items: stretch;justify-content: center;background-color: white;position: relative;}#sk-container-id-11 div.sk-item::before, #sk-container-id-11 div.sk-parallel-item::before {content: \"\";position: absolute;border-left: 1px solid gray;box-sizing: border-box;top: 0;bottom: 0;left: 50%;z-index: -1;}#sk-container-id-11 div.sk-parallel-item {display: flex;flex-direction: column;z-index: 1;position: relative;background-color: white;}#sk-container-id-11 div.sk-parallel-item:first-child::after {align-self: flex-end;width: 50%;}#sk-container-id-11 div.sk-parallel-item:last-child::after {align-self: flex-start;width: 50%;}#sk-container-id-11 div.sk-parallel-item:only-child::after {width: 0;}#sk-container-id-11 div.sk-dashed-wrapped {border: 1px dashed gray;margin: 0 0.4em 0.5em 0.4em;box-sizing: border-box;padding-bottom: 0.4em;background-color: white;}#sk-container-id-11 div.sk-label label {font-family: monospace;font-weight: bold;display: inline-block;line-height: 1.2em;}#sk-container-id-11 div.sk-label-container {text-align: center;}#sk-container-id-11 div.sk-container {/* jupyter's `normalize.less` sets `[hidden] { display: none; }` but bootstrap.min.css set `[hidden] { display: none !important; }` so we also need the `!important` here to be able to override the default hidden behavior on the sphinx rendered scikit-learn.org. See: https://github.com/scikit-learn/scikit-learn/issues/21755 */display: inline-block !important;position: relative;}#sk-container-id-11 div.sk-text-repr-fallback {display: none;}</style><div id=\"sk-container-id-11\" class=\"sk-top-container\"><div class=\"sk-text-repr-fallback\"><pre>GradientBoostingRegressor(random_state=42)</pre><b>In a Jupyter environment, please rerun this cell to show the HTML representation or trust the notebook. <br />On GitHub, the HTML representation is unable to render, please try loading this page with nbviewer.org.</b></div><div class=\"sk-container\" hidden><div class=\"sk-item\"><div class=\"sk-estimator sk-toggleable\"><input class=\"sk-toggleable__control sk-hidden--visually\" id=\"sk-estimator-id-19\" type=\"checkbox\" checked><label for=\"sk-estimator-id-19\" class=\"sk-toggleable__label sk-toggleable__label-arrow\">GradientBoostingRegressor</label><div class=\"sk-toggleable__content\"><pre>GradientBoostingRegressor(random_state=42)</pre></div></div></div></div></div>"
            ]
          },
          "metadata": {},
          "execution_count": 75
        }
      ]
    },
    {
      "cell_type": "markdown",
      "source": [
        "Agora que o modelo foi treinado, posso usá-lo para fazer previsões nos dados de teste ou avaliar seu desempenho. Por exemplo, posso usar o modelo de Gradient Boosting para fazer previsões e calcular o erro quadrático médio (Mean Squared Error, MSE):"
      ],
      "metadata": {
        "id": "Xi2kC1AyvAIM"
      }
    },
    {
      "cell_type": "code",
      "source": [
        "from sklearn.metrics import mean_squared_error\n",
        "\n",
        "# Usar o modelo para fazer previsões nos dados de teste\n",
        "y_pred = gb_model.predict(X_test_scaled)\n",
        "\n",
        "# Calcular o MSE\n",
        "mse = mean_squared_error(y_test, y_pred)\n",
        "\n",
        "print(\"Erro Quadrático Médio (MSE) do modelo de Gradient Boosting:\", mse)\n"
      ],
      "metadata": {
        "colab": {
          "base_uri": "https://localhost:8080/"
        },
        "id": "ecO_S52OuLhs",
        "outputId": "989fc588-4d9c-4d57-8e4e-75ae4d89ab65"
      },
      "execution_count": 76,
      "outputs": [
        {
          "output_type": "stream",
          "name": "stdout",
          "text": [
            "Erro Quadrático Médio (MSE) do modelo de Gradient Boosting: 81.72959827538037\n"
          ]
        }
      ]
    },
    {
      "cell_type": "markdown",
      "source": [
        "**Posso criar um comitê de modelos diferentes para o problema (ensembles)?**\n",
        "\n",
        "Treinando um ensemble de modelos usando o método de votação com quatro modelos diferentes: Regressão Linear, Árvore de Decisão, Floresta Aleatória e Máquina de Vetores de Suporte para Regressão (SVR)."
      ],
      "metadata": {
        "id": "1goGnCGQVUKs"
      }
    },
    {
      "cell_type": "code",
      "source": [
        "from sklearn.ensemble import VotingRegressor\n",
        "\n",
        "# Criar o ensemble\n",
        "ensemble_model = VotingRegressor([('linear', linear_model), ('tree', tree_model), ('forest', forest_model), ('svm', svm_model)])\n",
        "\n",
        "# Treinar o ensemble\n",
        "ensemble_model.fit(X_train_scaled, y_train)\n"
      ],
      "metadata": {
        "colab": {
          "base_uri": "https://localhost:8080/",
          "height": 110
        },
        "id": "0x0TPvrSrgBs",
        "outputId": "0c151c9c-c23c-4c6e-c976-bd1d96a8561e"
      },
      "execution_count": 77,
      "outputs": [
        {
          "output_type": "execute_result",
          "data": {
            "text/plain": [
              "VotingRegressor(estimators=[('linear', LinearRegression()),\n",
              "                            ('tree', DecisionTreeRegressor(random_state=42)),\n",
              "                            ('forest', RandomForestRegressor(random_state=42)),\n",
              "                            ('svm', SVR())])"
            ],
            "text/html": [
              "<style>#sk-container-id-12 {color: black;background-color: white;}#sk-container-id-12 pre{padding: 0;}#sk-container-id-12 div.sk-toggleable {background-color: white;}#sk-container-id-12 label.sk-toggleable__label {cursor: pointer;display: block;width: 100%;margin-bottom: 0;padding: 0.3em;box-sizing: border-box;text-align: center;}#sk-container-id-12 label.sk-toggleable__label-arrow:before {content: \"▸\";float: left;margin-right: 0.25em;color: #696969;}#sk-container-id-12 label.sk-toggleable__label-arrow:hover:before {color: black;}#sk-container-id-12 div.sk-estimator:hover label.sk-toggleable__label-arrow:before {color: black;}#sk-container-id-12 div.sk-toggleable__content {max-height: 0;max-width: 0;overflow: hidden;text-align: left;background-color: #f0f8ff;}#sk-container-id-12 div.sk-toggleable__content pre {margin: 0.2em;color: black;border-radius: 0.25em;background-color: #f0f8ff;}#sk-container-id-12 input.sk-toggleable__control:checked~div.sk-toggleable__content {max-height: 200px;max-width: 100%;overflow: auto;}#sk-container-id-12 input.sk-toggleable__control:checked~label.sk-toggleable__label-arrow:before {content: \"▾\";}#sk-container-id-12 div.sk-estimator input.sk-toggleable__control:checked~label.sk-toggleable__label {background-color: #d4ebff;}#sk-container-id-12 div.sk-label input.sk-toggleable__control:checked~label.sk-toggleable__label {background-color: #d4ebff;}#sk-container-id-12 input.sk-hidden--visually {border: 0;clip: rect(1px 1px 1px 1px);clip: rect(1px, 1px, 1px, 1px);height: 1px;margin: -1px;overflow: hidden;padding: 0;position: absolute;width: 1px;}#sk-container-id-12 div.sk-estimator {font-family: monospace;background-color: #f0f8ff;border: 1px dotted black;border-radius: 0.25em;box-sizing: border-box;margin-bottom: 0.5em;}#sk-container-id-12 div.sk-estimator:hover {background-color: #d4ebff;}#sk-container-id-12 div.sk-parallel-item::after {content: \"\";width: 100%;border-bottom: 1px solid gray;flex-grow: 1;}#sk-container-id-12 div.sk-label:hover label.sk-toggleable__label {background-color: #d4ebff;}#sk-container-id-12 div.sk-serial::before {content: \"\";position: absolute;border-left: 1px solid gray;box-sizing: border-box;top: 0;bottom: 0;left: 50%;z-index: 0;}#sk-container-id-12 div.sk-serial {display: flex;flex-direction: column;align-items: center;background-color: white;padding-right: 0.2em;padding-left: 0.2em;position: relative;}#sk-container-id-12 div.sk-item {position: relative;z-index: 1;}#sk-container-id-12 div.sk-parallel {display: flex;align-items: stretch;justify-content: center;background-color: white;position: relative;}#sk-container-id-12 div.sk-item::before, #sk-container-id-12 div.sk-parallel-item::before {content: \"\";position: absolute;border-left: 1px solid gray;box-sizing: border-box;top: 0;bottom: 0;left: 50%;z-index: -1;}#sk-container-id-12 div.sk-parallel-item {display: flex;flex-direction: column;z-index: 1;position: relative;background-color: white;}#sk-container-id-12 div.sk-parallel-item:first-child::after {align-self: flex-end;width: 50%;}#sk-container-id-12 div.sk-parallel-item:last-child::after {align-self: flex-start;width: 50%;}#sk-container-id-12 div.sk-parallel-item:only-child::after {width: 0;}#sk-container-id-12 div.sk-dashed-wrapped {border: 1px dashed gray;margin: 0 0.4em 0.5em 0.4em;box-sizing: border-box;padding-bottom: 0.4em;background-color: white;}#sk-container-id-12 div.sk-label label {font-family: monospace;font-weight: bold;display: inline-block;line-height: 1.2em;}#sk-container-id-12 div.sk-label-container {text-align: center;}#sk-container-id-12 div.sk-container {/* jupyter's `normalize.less` sets `[hidden] { display: none; }` but bootstrap.min.css set `[hidden] { display: none !important; }` so we also need the `!important` here to be able to override the default hidden behavior on the sphinx rendered scikit-learn.org. See: https://github.com/scikit-learn/scikit-learn/issues/21755 */display: inline-block !important;position: relative;}#sk-container-id-12 div.sk-text-repr-fallback {display: none;}</style><div id=\"sk-container-id-12\" class=\"sk-top-container\"><div class=\"sk-text-repr-fallback\"><pre>VotingRegressor(estimators=[(&#x27;linear&#x27;, LinearRegression()),\n",
              "                            (&#x27;tree&#x27;, DecisionTreeRegressor(random_state=42)),\n",
              "                            (&#x27;forest&#x27;, RandomForestRegressor(random_state=42)),\n",
              "                            (&#x27;svm&#x27;, SVR())])</pre><b>In a Jupyter environment, please rerun this cell to show the HTML representation or trust the notebook. <br />On GitHub, the HTML representation is unable to render, please try loading this page with nbviewer.org.</b></div><div class=\"sk-container\" hidden><div class=\"sk-item sk-dashed-wrapped\"><div class=\"sk-label-container\"><div class=\"sk-label sk-toggleable\"><input class=\"sk-toggleable__control sk-hidden--visually\" id=\"sk-estimator-id-20\" type=\"checkbox\" ><label for=\"sk-estimator-id-20\" class=\"sk-toggleable__label sk-toggleable__label-arrow\">VotingRegressor</label><div class=\"sk-toggleable__content\"><pre>VotingRegressor(estimators=[(&#x27;linear&#x27;, LinearRegression()),\n",
              "                            (&#x27;tree&#x27;, DecisionTreeRegressor(random_state=42)),\n",
              "                            (&#x27;forest&#x27;, RandomForestRegressor(random_state=42)),\n",
              "                            (&#x27;svm&#x27;, SVR())])</pre></div></div></div><div class=\"sk-parallel\"><div class=\"sk-parallel-item\"><div class=\"sk-item\"><div class=\"sk-label-container\"><div class=\"sk-label sk-toggleable\"><label>linear</label></div></div><div class=\"sk-serial\"><div class=\"sk-item\"><div class=\"sk-estimator sk-toggleable\"><input class=\"sk-toggleable__control sk-hidden--visually\" id=\"sk-estimator-id-21\" type=\"checkbox\" ><label for=\"sk-estimator-id-21\" class=\"sk-toggleable__label sk-toggleable__label-arrow\">LinearRegression</label><div class=\"sk-toggleable__content\"><pre>LinearRegression()</pre></div></div></div></div></div></div><div class=\"sk-parallel-item\"><div class=\"sk-item\"><div class=\"sk-label-container\"><div class=\"sk-label sk-toggleable\"><label>tree</label></div></div><div class=\"sk-serial\"><div class=\"sk-item\"><div class=\"sk-estimator sk-toggleable\"><input class=\"sk-toggleable__control sk-hidden--visually\" id=\"sk-estimator-id-22\" type=\"checkbox\" ><label for=\"sk-estimator-id-22\" class=\"sk-toggleable__label sk-toggleable__label-arrow\">DecisionTreeRegressor</label><div class=\"sk-toggleable__content\"><pre>DecisionTreeRegressor(random_state=42)</pre></div></div></div></div></div></div><div class=\"sk-parallel-item\"><div class=\"sk-item\"><div class=\"sk-label-container\"><div class=\"sk-label sk-toggleable\"><label>forest</label></div></div><div class=\"sk-serial\"><div class=\"sk-item\"><div class=\"sk-estimator sk-toggleable\"><input class=\"sk-toggleable__control sk-hidden--visually\" id=\"sk-estimator-id-23\" type=\"checkbox\" ><label for=\"sk-estimator-id-23\" class=\"sk-toggleable__label sk-toggleable__label-arrow\">RandomForestRegressor</label><div class=\"sk-toggleable__content\"><pre>RandomForestRegressor(random_state=42)</pre></div></div></div></div></div></div><div class=\"sk-parallel-item\"><div class=\"sk-item\"><div class=\"sk-label-container\"><div class=\"sk-label sk-toggleable\"><label>svm</label></div></div><div class=\"sk-serial\"><div class=\"sk-item\"><div class=\"sk-estimator sk-toggleable\"><input class=\"sk-toggleable__control sk-hidden--visually\" id=\"sk-estimator-id-24\" type=\"checkbox\" ><label for=\"sk-estimator-id-24\" class=\"sk-toggleable__label sk-toggleable__label-arrow\">SVR</label><div class=\"sk-toggleable__content\"><pre>SVR()</pre></div></div></div></div></div></div></div></div></div></div>"
            ]
          },
          "metadata": {},
          "execution_count": 77
        }
      ]
    },
    {
      "cell_type": "markdown",
      "source": [
        "Usando o ensemble para fazer previsões e calcular o erro quadrático médio (Mean Squared Error, MSE):\n"
      ],
      "metadata": {
        "id": "boQobA5NwA91"
      }
    },
    {
      "cell_type": "code",
      "source": [
        "from sklearn.metrics import mean_squared_error\n",
        "\n",
        "# Usar o ensemble para fazer previsões nos dados de teste\n",
        "y_pred = ensemble_model.predict(X_test_scaled)\n",
        "\n",
        "# Calcular o MSE\n",
        "mse = mean_squared_error(y_test, y_pred)\n",
        "\n",
        "print(\"Erro Quadrático Médio (MSE) do ensemble de modelos:\", mse)"
      ],
      "metadata": {
        "colab": {
          "base_uri": "https://localhost:8080/"
        },
        "id": "hn0PhPiRv-iU",
        "outputId": "2bfdb098-ecc9-455b-e922-3196e23121b1"
      },
      "execution_count": 78,
      "outputs": [
        {
          "output_type": "stream",
          "name": "stdout",
          "text": [
            "Erro Quadrático Médio (MSE) do ensemble de modelos: 262.9497245620958\n"
          ]
        }
      ]
    },
    {
      "cell_type": "markdown",
      "source": [
        "# Avaliação de Resultados\n"
      ],
      "metadata": {
        "id": "pkTMFv2XxTxO"
      }
    },
    {
      "cell_type": "markdown",
      "source": [
        "**Selecione as métricas de avaliação condizentes com o problema, justificando:**\n",
        "\n",
        "Para problemas de regressão usarei as métricas mais comuns que incluem o Erro Quadrático Médio (MSE), a Raiz do Erro Quadrático Médio (RMSE) e o Coeficiente de Determinação (R^2). O MSE e o RMSE são úteis porque penalizam erros maiores mais do que erros menores. O R^2 é útil porque fornece uma medida de quanta variância nos dados é explicada pelo modelo."
      ],
      "metadata": {
        "id": "Vdx4R0b8UD2y"
      }
    },
    {
      "cell_type": "markdown",
      "source": [
        "**Treine o modelo escolhido com toda a base de treino, e teste-o com a base de teste.**\n",
        "\n",
        "Calculando as métricas de avaliação para cada modelo."
      ],
      "metadata": {
        "id": "sdt6JHRiUL8r"
      }
    },
    {
      "cell_type": "code",
      "source": [
        "import numpy as np\n",
        "\n",
        "# Lista de modelos\n",
        "models = [linear_model, tree_model, forest_model, svm_model, gb_model, ensemble_model]\n",
        "\n",
        "# Dicionário para armazenar os resultados\n",
        "results = {}\n",
        "\n",
        "# Calcular as métricas para cada modelo\n",
        "for model in models:\n",
        "    # Fazer previsões\n",
        "    y_pred = model.predict(X_test_scaled)\n",
        "\n",
        "    # Calcular as métricas\n",
        "    mse = mean_squared_error(y_test, y_pred)\n",
        "    rmse = np.sqrt(mse)\n",
        "    r2 = r2_score(y_test, y_pred)\n",
        "\n",
        "    # Armazenar os resultados\n",
        "    results[model.__class__.__name__] = {'MSE': mse, 'RMSE': rmse, 'R^2': r2}\n",
        "\n",
        "# Imprimir os resultados\n",
        "for model, metrics in results.items():\n",
        "    print(f\"Modelo: {model}\")\n",
        "    for metric, value in metrics.items():\n",
        "        print(f\"{metric}: {value}\")\n",
        "    print(\"\\n\")"
      ],
      "metadata": {
        "colab": {
          "base_uri": "https://localhost:8080/"
        },
        "id": "mWuIWRCYQfjV",
        "outputId": "e6678786-4c6f-4022-8771-f0468b016de4"
      },
      "execution_count": 79,
      "outputs": [
        {
          "output_type": "stream",
          "name": "stdout",
          "text": [
            "Modelo: LinearRegression\n",
            "MSE: 69.80523900031406\n",
            "RMSE: 8.354952962184411\n",
            "R^2: 0.9975656145440126\n",
            "\n",
            "\n",
            "Modelo: DecisionTreeRegressor\n",
            "MSE: 163.01768807975074\n",
            "RMSE: 12.767838034677238\n",
            "R^2: 0.9943149268648983\n",
            "\n",
            "\n",
            "Modelo: RandomForestRegressor\n",
            "MSE: 82.51666447982011\n",
            "RMSE: 9.083868365394784\n",
            "R^2: 0.9971223167377828\n",
            "\n",
            "\n",
            "Modelo: SVR\n",
            "MSE: 3040.142732559128\n",
            "RMSE: 55.137489356690224\n",
            "R^2: 0.8939781689991129\n",
            "\n",
            "\n",
            "Modelo: GradientBoostingRegressor\n",
            "MSE: 81.72959827538037\n",
            "RMSE: 9.040442371664142\n",
            "R^2: 0.9971497648569846\n",
            "\n",
            "\n",
            "Modelo: VotingRegressor\n",
            "MSE: 262.9497245620958\n",
            "RMSE: 16.21572460798764\n",
            "R^2: 0.9908299005304317\n",
            "\n",
            "\n"
          ]
        }
      ]
    },
    {
      "cell_type": "markdown",
      "source": [
        "**Os resultados fazem sentido?:**\n",
        "\n",
        "Sim, os resultados fazem sentido. Todos os modelos foram capazes de fazer previsões com um grau razoável de precisão, como indicado pelos valores de R^2 próximos de 1. No entanto, o modelo SVR teve um desempenho significativamente pior do que os outros modelos, como indicado pelo seu maior MSE e RMSE e menor R^2."
      ],
      "metadata": {
        "id": "ZddvX8auyNMd"
      }
    },
    {
      "cell_type": "code",
      "source": [
        "# Fazer previsões nos dados de treinamento\n",
        "y_train_pred = linear_model.predict(X_train_scaled)\n",
        "\n",
        "# Calcular as métricas para os dados de treinamento\n",
        "mse_train = mean_squared_error(y_train, y_train_pred)\n",
        "rmse_train = np.sqrt(mse_train)\n",
        "r2_train = r2_score(y_train, y_train_pred)\n",
        "\n",
        "# Fazer previsões nos dados de teste\n",
        "y_test_pred = linear_model.predict(X_test_scaled)\n",
        "\n",
        "# Calcular as métricas para os dados de teste\n",
        "mse_test = mean_squared_error(y_test, y_test_pred)\n",
        "rmse_test = np.sqrt(mse_test)\n",
        "r2_test = r2_score(y_test, y_test_pred)\n",
        "\n",
        "# Imprimir as métricas\n",
        "print(f\"Treinamento: MSE = {mse_train}, RMSE = {rmse_train}, R^2 = {r2_train}\")\n",
        "print(f\"Teste: MSE = {mse_test}, RMSE = {rmse_test}, R^2 = {r2_test}\")\n"
      ],
      "metadata": {
        "colab": {
          "base_uri": "https://localhost:8080/"
        },
        "id": "OmnYwzKWS_ef",
        "outputId": "daa96f56-18b0-4aaf-ad33-982a803852c7"
      },
      "execution_count": 80,
      "outputs": [
        {
          "output_type": "stream",
          "name": "stdout",
          "text": [
            "Treinamento: MSE = 73.00701313177987, RMSE = 8.544414147955369, R^2 = 0.9973159325313505\n",
            "Teste: MSE = 69.80523900031406, RMSE = 8.354952962184411, R^2 = 0.9975656145440126\n"
          ]
        }
      ]
    },
    {
      "cell_type": "markdown",
      "source": [
        "**Foi observado algum problema de overfitting?**\n",
        "\n",
        "Com base nos resultados, não parece haver um problema de overfitting com o modelo de Regressão Linear. As métricas de erro (MSE, RMSE) são semelhantes para os conjuntos de treinamento e teste, e a métrica R^2 é alta (próxima de 1) para ambos, o que indica que o modelo está explicando uma grande proporção da variância nos dados.\n"
      ],
      "metadata": {
        "id": "SWtQo0tlTZMP"
      }
    },
    {
      "cell_type": "markdown",
      "source": [
        "**Compare os resultados de diferentes modelos.**\n",
        "\n",
        "Os modelos de Regressão Linear, Floresta Aleatória e Gradient Boosting que eu treinei tiveram desempenhos semelhantes, com valores de MSE e RMSE relativamente baixos e valores de R^2 muito próximos de 1. O modelo de Árvore de Decisão teve um desempenho um pouco pior, e o modelo SVR teve um desempenho significativamente pior. O VotingRegressor, que é um ensemble dos quatro modelos, teve um desempenho intermediário.\n"
      ],
      "metadata": {
        "id": "yEftaDm_UcRi"
      }
    },
    {
      "cell_type": "markdown",
      "source": [
        "**Descreva a melhor solução encontrada, justificando.**\n",
        "\n",
        "Com base nas métricas de avaliação fornecidas, o modelo de Regressão Linear parece ser a melhor solução, pois tem o menor MSE e RMSE e o maior R^2. No entanto, os modelos de Floresta Aleatória e Gradient Boosting também tiveram desempenhos muito semelhantes. Esses modelos são capazes de capturar relações não lineares e interações entre recursos, o que pode explicar seu bom desempenho. A escolha do melhor modelo também pode depender de outros fatores, como a interpretabilidade do modelo e o tempo de treinamento e previsão. Por exemplo, embora o modelo de Regressão Linear seja mais fácil de interpretar, os modelos de Floresta Aleatória e Gradient Boosting podem ser capazes de capturar padrões mais complexos nos dados.\n"
      ],
      "metadata": {
        "id": "dJ0J40J5UqVC"
      }
    }
  ]
}